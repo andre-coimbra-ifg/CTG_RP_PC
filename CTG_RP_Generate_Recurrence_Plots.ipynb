{
  "nbformat": 4,
  "nbformat_minor": 0,
  "metadata": {
    "colab": {
      "name": "CTG_RP Generate Recurrence Plots.ipynb",
      "version": "0.3.2",
      "provenance": [],
      "collapsed_sections": [],
      "include_colab_link": true
    },
    "language_info": {
      "codemirror_mode": {
        "name": "ipython",
        "version": 3
      },
      "file_extension": ".py",
      "mimetype": "text/x-python",
      "name": "python",
      "nbconvert_exporter": "python",
      "pygments_lexer": "ipython3",
      "version": "3.6.8"
    },
    "kernelspec": {
      "display_name": "Python 3",
      "language": "python",
      "name": "python3"
    }
  },
  "cells": [
    {
      "cell_type": "markdown",
      "metadata": {
        "id": "view-in-github",
        "colab_type": "text"
      },
      "source": [
        "<a href=\"https://colab.research.google.com/github/williamsdoug/CTG_RP/blob/master/CTG_RP_Generate_Recurrence_Plots.ipynb\" target=\"_parent\"><img src=\"https://colab.research.google.com/assets/colab-badge.svg\" alt=\"Open In Colab\"/></a>"
      ]
    },
    {
      "cell_type": "markdown",
      "metadata": {
        "id": "OczHaJVaidcc",
        "colab_type": "text"
      },
      "source": [
        "# CTG Generate Reccurence Plots"
      ]
    },
    {
      "cell_type": "code",
      "metadata": {
        "id": "14RFObMGidcd",
        "colab_type": "code",
        "colab": {}
      },
      "source": [
        "import config_local\n",
        "from config_local import *\n",
        "#from config_common import *"
      ],
      "execution_count": 0,
      "outputs": []
    },
    {
      "cell_type": "code",
      "metadata": {
        "id": "0XmI_tq2idcf",
        "colab_type": "code",
        "colab": {}
      },
      "source": [
        "import os\n",
        "import json\n",
        "from pprint import pprint\n",
        "\n",
        "import numpy as np\n",
        "import scipy\n",
        "import scipy.signal\n",
        "import matplotlib.pyplot as plt\n",
        "\n",
        "import wfdb\n",
        "from ctg_utils import get_all_recno, parse_meta_comments\n",
        "import basic_denoise\n",
        "from basic_denoise import get_valid_segments\n",
        "\n",
        "from libRP import create_rp"
      ],
      "execution_count": 0,
      "outputs": []
    },
    {
      "cell_type": "markdown",
      "metadata": {
        "id": "YXo5o33-idch",
        "colab_type": "text"
      },
      "source": [
        "# Config"
      ]
    },
    {
      "cell_type": "markdown",
      "metadata": {
        "id": "1EoEzLnVidcr",
        "colab_type": "text"
      },
      "source": [
        "# Code"
      ]
    },
    {
      "cell_type": "code",
      "metadata": {
        "scrolled": true,
        "id": "qCjpxrlqidcr",
        "colab_type": "code",
        "colab": {}
      },
      "source": [
        "def generate_rp_images(recordings_dir, n_dec=4, clip_stage_II=True, \n",
        "                       max_seg_min=10, policy='early_valid',\n",
        "                       rp_params=[{}],\n",
        "                       images_dir='',\n",
        "                       images_index_file='rp_images_index.json',\n",
        "                       show_signal=False, show_image=False, verbose=False, cmap=None,\n",
        "                       limit=-1):\n",
        "    \n",
        "    assert policy in ['best_quality', 'early_valid', 'late_valid']\n",
        "    \n",
        "    if images_dir and not os.path.exists(images_dir):\n",
        "        os.mkdir(images_dir)\n",
        "        \n",
        "    max_seg = int(max_seg_min*60*4)  # convert to samples\n",
        "\n",
        "    results = {}\n",
        "    for recno in sorted(get_all_recno(recordings_dir)):\n",
        "        limit -= 1\n",
        "        if limit == 0:\n",
        "            break\n",
        "            \n",
        "        recno_full = os.path.join(recordings_dir, recno)\n",
        "        all_sig, meta = wfdb.io.rdsamp(recno_full)\n",
        "        meta = parse_meta_comments(meta['comments'])\n",
        "        if verbose:\n",
        "            print('\\nRecord: {}  Samples: {}   Duration: {:0.1f} min   Stage.II: {} min'.format(\n",
        "                recno, all_sig.shape[0], all_sig.shape[0]/4/60, meta['Delivery']['II.stage']))\n",
        "\n",
        "        sig_hr = all_sig[:, 0]\n",
        "        if clip_stage_II:\n",
        "            idx = int(meta['Delivery']['II.stage']*60*4)\n",
        "            sig_hr = sig_hr[:-idx]\n",
        "        ts = np.arange(len(sig_hr))/4.0\n",
        "            \n",
        "        if show_signal:\n",
        "            plt.figure(figsize=(12, 2))\n",
        "            plt.title('{}: Signal'.format(recno))\n",
        "            plt.plot(ts/60, sig_hr)\n",
        "            plt.xlim(ts[0], ts[-1]/60)\n",
        "            plt.ylim(50, 200)\n",
        "            plt.show()\n",
        "            \n",
        "        # select segment with lowest error rate\n",
        "        selected_segments = get_valid_segments(sig_hr, ts, recno, verbose=False)\n",
        "        \n",
        "        if len(selected_segments) == 0:\n",
        "            continue\n",
        "        \n",
        "        if policy == 'best_quality':\n",
        "            selected_segments = sorted(selected_segments, key=lambda x: -x['pct_valid'])\n",
        "        elif policy == 'early_valid':\n",
        "            selected_segments = sorted(selected_segments, key=lambda x: x['seg_start'])\n",
        "        elif policy == 'late_valid':\n",
        "            selected_segments = sorted(selected_segments, key=lambda x: -x['seg_end'])\n",
        "            \n",
        "        seg =  selected_segments[0]\n",
        "        seg_start = seg['seg_start']\n",
        "        seg_end = seg['seg_end']\n",
        "        seg_hr = seg['seg_hr']\n",
        "        seg_tm = seg['seg_ts'] / 60\n",
        "        orig_seg_hr = seg['orig_seg_hr']\n",
        "        mask = seg['mask']\n",
        "        pct_valid = seg['pct_valid']\n",
        "            \n",
        "        if show_signal:\n",
        "            plt.figure(figsize=(12, 2))\n",
        "            plt.title('{}: Segment  {}-{}'.format(recno, seg_start, seg_end))\n",
        "            plt.plot(seg_tm, seg_hr)\n",
        "            plt.plot(seg_tm, orig_seg_hr, alpha=0.25)\n",
        "            plt.xlim(seg_tm[0], seg_tm[-1])\n",
        "            plt.ylim(50, 200)\n",
        "            plt.show()\n",
        "\n",
        "            plt.figure(figsize=(12, 0.75))\n",
        "            plt.title('{}: Invalid'.format(recno))\n",
        "            plt.plot(seg_tm, ~mask)\n",
        "            plt.xlim(seg_tm[0], seg_tm[-1])\n",
        "            plt.ylim(-0.1, 1.1)\n",
        "            plt.show()\n",
        "\n",
        "            print('Valid: {:0.1f}%'.format(100 * pct_valid))\n",
        "\n",
        "        selected_hr = seg_hr[:max_seg]\n",
        "        if n_dec > 1:\n",
        "            selected_hr = scipy.signal.decimate(selected_hr,n_dec)\n",
        "\n",
        "        image_names = []\n",
        "        for p in rp_params:\n",
        "                fname = create_rp(selected_hr, base_name=recno, show_image=show_image,\n",
        "                                  images_dir=images_dir, cmap=cmap, **p)\n",
        "                image_names.append(fname)\n",
        "                    \n",
        "        results['recno'] = {'names':image_names, 'outcome':meta['Outcome']}\n",
        "\n",
        "    if verbose:\n",
        "        pprint(results)\n",
        "    \n",
        "    with open(os.path.join(images_dir, images_index_file), 'w') as outfile:\n",
        "        json.dump(results, outfile)"
      ],
      "execution_count": 0,
      "outputs": []
    },
    {
      "cell_type": "markdown",
      "metadata": {
        "id": "Hogb3E_0idct",
        "colab_type": "text"
      },
      "source": [
        "## Process Recordings"
      ]
    },
    {
      "cell_type": "code",
      "metadata": {
        "id": "E_wDT-wridcu",
        "colab_type": "code",
        "colab": {
          "base_uri": "https://localhost:8080/",
          "height": 68
        },
        "outputId": "d23ea30d-6aac-421c-d2ac-dbb6cb12a973"
      },
      "source": [
        "# Configure Recurrent Plot Parameters\n",
        "\n",
        "rp_params = []\n",
        "\n",
        "for dimension in [2]:\n",
        "    for time_delay in [1]:\n",
        "        for percentage in [1,3, 10]:\n",
        "            for use_clip in [False]: # [False, True]:\n",
        "                rp_params.append({'dimension':dimension, 'time_delay':time_delay, \n",
        "                                  'percentage':percentage, 'use_clip':use_clip})\n",
        "            \n",
        "            \n",
        "rp_params           "
      ],
      "execution_count": 8,
      "outputs": [
        {
          "output_type": "execute_result",
          "data": {
            "text/plain": [
              "[{'dimension': 2, 'percentage': 1, 'time_delay': 1, 'use_clip': False},\n",
              " {'dimension': 2, 'percentage': 3, 'time_delay': 1, 'use_clip': False},\n",
              " {'dimension': 2, 'percentage': 10, 'time_delay': 1, 'use_clip': False}]"
            ]
          },
          "metadata": {
            "tags": []
          },
          "execution_count": 8
        }
      ]
    },
    {
      "cell_type": "code",
      "metadata": {
        "scrolled": false,
        "id": "44Tt-k97idcx",
        "colab_type": "code",
        "colab": {
          "base_uri": "https://localhost:8080/",
          "height": 1504
        },
        "outputId": "f12ad713-3056-4967-d7d8-f02122d7792d"
      },
      "source": [
        "generate_rp_images(RECORDINGS_DIR, images_dir=IMAGES_DIR, rp_params=rp_params, \n",
        "                   policy='early_valid', # 'best_quality', 'early_valid', 'late_valid'\n",
        "                   show_signal=False, show_image=True, verbose=True, cmap='binary',\n",
        "                   limit=3,\n",
        "                  )"
      ],
      "execution_count": 12,
      "outputs": [
        {
          "output_type": "stream",
          "text": [
            "\n",
            "Record: 1001  Samples: 19200   Duration: 80.0 min   Stage.II: 20 min\n"
          ],
          "name": "stdout"
        },
        {
          "output_type": "display_data",
          "data": {
            "image/png": "[encoded data removed]",
            "text/plain": [
              "<Figure size 216x216 with 1 Axes>"
            ]
          },
          "metadata": {
            "tags": []
          }
        },
        {
          "output_type": "display_data",
          "data": {
            "image/png": "[encoded data removed]",
            "text/plain": [
              "<Figure size 216x216 with 1 Axes>"
            ]
          },
          "metadata": {
            "tags": []
          }
        },
        {
          "output_type": "display_data",
          "data": {
            "image/png": "[encoded data removed]",
            "text/plain": [
              "<Figure size 216x216 with 1 Axes>"
            ]
          },
          "metadata": {
            "tags": []
          }
        },
        {
          "output_type": "stream",
          "text": [
            "\n",
            "Record: 1002  Samples: 19200   Duration: 80.0 min   Stage.II: 20 min\n"
          ],
          "name": "stdout"
        },
        {
          "output_type": "display_data",
          "data": {
            "image/png": "[encoded data removed]",
            "text/plain": [
              "<Figure size 216x216 with 1 Axes>"
            ]
          },
          "metadata": {
            "tags": []
          }
        },
        {
          "output_type": "display_data",
          "data": {
            "image/png": "[encoded data removed]",
            "text/plain": [
              "<Figure size 216x216 with 1 Axes>"
            ]
          },
          "metadata": {
            "tags": []
          }
        },
        {
          "output_type": "display_data",
          "data": {
            "image/png": "[encoded data removed]",
            "text/plain": [
              "<Figure size 216x216 with 1 Axes>"
            ]
          },
          "metadata": {
            "tags": []
          }
        },
        {
          "output_type": "stream",
          "text": [
            "{'recno': {'names': ['1002_d2_t1_p1.jpg',\n",
            "                     '1002_d2_t1_p3.jpg',\n",
            "                     '1002_d2_t1_p10.jpg'],\n",
            "           'outcome': {'Apgar1': 8,\n",
            "                       'Apgar5': 8,\n",
            "                       'BDecf': 7.92,\n",
            "                       'BE': -12,\n",
            "                       'pCO2': 12,\n",
            "                       'pH': 7}}}\n"
          ],
          "name": "stdout"
        }
      ]
    },
    {
      "cell_type": "code",
      "metadata": {
        "id": "R8kZF7Whidcz",
        "colab_type": "code",
        "colab": {}
      },
      "source": [
        "# !ls images"
      ],
      "execution_count": 0,
      "outputs": []
    },
    {
      "cell_type": "code",
      "metadata": {
        "id": "Y5nBNEPvidc1",
        "colab_type": "code",
        "colab": {}
      },
      "source": [
        "#! rm *.json\n",
        "# ! cat images/rp_images_index.json"
      ],
      "execution_count": 0,
      "outputs": []
    },
    {
      "cell_type": "code",
      "metadata": {
        "id": "YMR4HV3bidc3",
        "colab_type": "code",
        "colab": {}
      },
      "source": [
        ""
      ],
      "execution_count": 0,
      "outputs": []
    }
  ]
}