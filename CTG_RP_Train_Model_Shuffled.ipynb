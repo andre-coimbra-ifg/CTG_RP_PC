{
  "nbformat": 4,
  "nbformat_minor": 0,
  "metadata": {
    "colab": {
      "name": "CTG_RP Train Model Shuffled.ipynb",
      "version": "0.3.2",
      "provenance": [],
      "collapsed_sections": [],
      "include_colab_link": true
    },
    "language_info": {
      "codemirror_mode": {
        "name": "ipython",
        "version": 3
      },
      "file_extension": ".py",
      "mimetype": "text/x-python",
      "name": "python",
      "nbconvert_exporter": "python",
      "pygments_lexer": "ipython3",
      "version": "3.6.8"
    },
    "kernelspec": {
      "name": "python3",
      "display_name": "Python 3"
    },
    "accelerator": "GPU"
  },
  "cells": [
    {
      "cell_type": "markdown",
      "metadata": {
        "id": "view-in-github",
        "colab_type": "text"
      },
      "source": [
        "<a href=\"https://colab.research.google.com/github/williamsdoug/CTG_RP/blob/master/CTG_RP_Train_Model_Shuffled.ipynb\" target=\"_parent\"><img src=\"https://colab.research.google.com/assets/colab-badge.svg\" alt=\"Open In Colab\"/></a>"
      ]
    },
    {
      "cell_type": "markdown",
      "metadata": {
        "id": "rdV-UfCWAbe1",
        "colab_type": "text"
      },
      "source": [
        "# Generate Datasets and Train Model\n",
        "\n",
        "\n",
        "Random selection for Train and Valid without regard for source file"
      ]
    },
    {
      "cell_type": "code",
      "metadata": {
        "id": "7ytg9ggCMvGs",
        "colab_type": "code",
        "outputId": "fc135463-c932-4ebc-86fd-f2fa1044f78d",
        "colab": {
          "base_uri": "https://localhost:8080/",
          "height": 51
        }
      },
      "source": [
        "! ls"
      ],
      "execution_count": 2,
      "outputs": [
        {
          "output_type": "stream",
          "text": [
            "basic_denoise.py     config_local.py  ctu-uhb-ctgdb  libRP.py\t  sample_data\n",
            "compute_metadata.py  ctg_utils.py     images\t     __pycache__  test.py\n"
          ],
          "name": "stdout"
        }
      ]
    },
    {
      "cell_type": "code",
      "metadata": {
        "id": "Waljt_cvAbe2",
        "colab_type": "code",
        "colab": {}
      },
      "source": [
        "%reload_ext autoreload\n",
        "%autoreload 2\n",
        "%matplotlib inline"
      ],
      "execution_count": 0,
      "outputs": []
    },
    {
      "cell_type": "code",
      "metadata": {
        "id": "r3uofxVyAbe6",
        "colab_type": "code",
        "colab": {}
      },
      "source": [
        "import config_local\n",
        "from config_local import *"
      ],
      "execution_count": 0,
      "outputs": []
    },
    {
      "cell_type": "code",
      "metadata": {
        "id": "c75SbCPBAbe8",
        "colab_type": "code",
        "colab": {}
      },
      "source": [
        "import numpy as np\n",
        "import matplotlib.pyplot as plt\n",
        "\n",
        "from fastai.vision import *\n",
        "from fastai.metrics import error_rate\n",
        "\n",
        "import torch\n",
        "from torch import nn\n",
        "\n",
        "\n",
        "import collections\n",
        "import pprint"
      ],
      "execution_count": 0,
      "outputs": []
    },
    {
      "cell_type": "code",
      "metadata": {
        "id": "BWT1_z0IAbe9",
        "colab_type": "code",
        "colab": {}
      },
      "source": [
        "from compute_metadata import get_splits, generate_label_file, generate_lists"
      ],
      "execution_count": 0,
      "outputs": []
    },
    {
      "cell_type": "markdown",
      "metadata": {
        "id": "-Ai9ZTafGiL2",
        "colab_type": "text"
      },
      "source": [
        "## Config"
      ]
    },
    {
      "cell_type": "code",
      "metadata": {
        "id": "XO7NNv_NAbfH",
        "colab_type": "code",
        "colab": {}
      },
      "source": [
        "tfms=[]\n",
        "size=64\n",
        "bs=64\n",
        "workers=4\n",
        "\n",
        "path = Path() / 'images'"
      ],
      "execution_count": 0,
      "outputs": []
    },
    {
      "cell_type": "markdown",
      "metadata": {
        "id": "IXcz4vuVAbfA",
        "colab_type": "text"
      },
      "source": [
        "## Generate Train and Valid Label Files"
      ]
    },
    {
      "cell_type": "code",
      "metadata": {
        "id": "L8Kt2t7-hltb",
        "colab_type": "code",
        "colab": {}
      },
      "source": [
        "def generate_label_file(group, image_dir='images', \n",
        "                        csv_file='labels.csv', header='fname, label'):\n",
        "    if csv_file is None:\n",
        "        results = []\n",
        "        for v in group.values():\n",
        "            for label, all_files in v.items():\n",
        "                for fname in all_files:\n",
        "                    results.append((os.path.join(image_dir, fname), 1 if label else 0))\n",
        "        return results\n",
        "    else:\n",
        "        with open(os.path.join(image_dir, csv_file), 'wt') as outfile:\n",
        "            if header:\n",
        "                print(header, file=outfile)\n",
        "            for v in group.values():\n",
        "                for label, all_files in v.items():\n",
        "                    for fname in all_files:\n",
        "                        line = '{}, {}'.format(fname, 1 if label else 0)\n",
        "                        print(line, file=outfile)"
      ],
      "execution_count": 0,
      "outputs": []
    },
    {
      "cell_type": "code",
      "metadata": {
        "id": "9lEivw5PAbfB",
        "colab_type": "code",
        "colab": {}
      },
      "source": [
        "train_valid_groups_full = get_splits(image_dir='images', image_file='rp_images_index.json', \n",
        "                                     exclude=['_clipped'],\n",
        "                                     thresh = 7.15)\n",
        "              \n",
        "generate_label_file(train_valid_groups_full[0], csv_file='labels.csv')"
      ],
      "execution_count": 0,
      "outputs": []
    },
    {
      "cell_type": "code",
      "metadata": {
        "id": "7pRyYW8LAbfD",
        "colab_type": "code",
        "outputId": "8bcc32d8-876c-4cfa-b375-cb843eef32df",
        "colab": {
          "base_uri": "https://localhost:8080/",
          "height": 68
        }
      },
      "source": [
        "!ls images/*.csv\n",
        "#!cat images/labels.csv"
      ],
      "execution_count": 24,
      "outputs": [
        {
          "output_type": "stream",
          "text": [
            "images/labels.csv   images/train_2.csv\timages/valid_0.csv  images/valid_3.csv\n",
            "images/train_0.csv  images/train_3.csv\timages/valid_1.csv  images/valid_4.csv\n",
            "images/train_1.csv  images/train_4.csv\timages/valid_2.csv\n"
          ],
          "name": "stdout"
        }
      ]
    },
    {
      "cell_type": "code",
      "metadata": {
        "id": "zTto_DwSil7w",
        "colab_type": "code",
        "colab": {
          "base_uri": "https://localhost:8080/",
          "height": 306
        },
        "outputId": "b594bdd1-0bd4-47a8-9c73-0e2d90d13161"
      },
      "source": [
        "lls = ImageList.from_csv(path, 'labels.csv').split_by_rand_pct(0.2).label_from_df(cols=1).transform(tfms, size=size)\n",
        "db = lls.databunch(bs=bs, num_workers=workers)#.normalize(imagenet_stats)\n",
        "db"
      ],
      "execution_count": 25,
      "outputs": [
        {
          "output_type": "execute_result",
          "data": {
            "text/plain": [
              "ImageDataBunch;\n",
              "\n",
              "Train: LabelList (490 items)\n",
              "x: ImageList\n",
              "Image (3, 64, 64),Image (3, 64, 64),Image (3, 64, 64),Image (3, 64, 64),Image (3, 64, 64)\n",
              "y: CategoryList\n",
              "0,0,0,0,0\n",
              "Path: images;\n",
              "\n",
              "Valid: LabelList (122 items)\n",
              "x: ImageList\n",
              "Image (3, 64, 64),Image (3, 64, 64),Image (3, 64, 64),Image (3, 64, 64),Image (3, 64, 64)\n",
              "y: CategoryList\n",
              "1,1,0,1,0\n",
              "Path: images;\n",
              "\n",
              "Test: None"
            ]
          },
          "metadata": {
            "tags": []
          },
          "execution_count": 25
        }
      ]
    },
    {
      "cell_type": "code",
      "metadata": {
        "id": "h_teKLeJAbfJ",
        "colab_type": "code",
        "colab": {}
      },
      "source": [
        "# train = ImageList.from_csv(path, 'train_0.csv')\n",
        "# valid = ImageList.from_csv(path, 'valid_0.csv')\n",
        "\n",
        "# lls = ItemLists(path, train, valid).label_from_df(cols=1).transform(tfms, size=size) \n",
        "# db = lls.databunch(bs=bs, num_workers=workers)#.normalize(imagenet_stats)"
      ],
      "execution_count": 0,
      "outputs": []
    },
    {
      "cell_type": "markdown",
      "metadata": {
        "id": "xSCAnpBdAbff",
        "colab_type": "text"
      },
      "source": [
        "### Examine Results"
      ]
    },
    {
      "cell_type": "code",
      "metadata": {
        "id": "Bk14YOW7Abfg",
        "colab_type": "code",
        "outputId": "9249318c-a322-4314-9d06-444411a68306",
        "colab": {
          "base_uri": "https://localhost:8080/",
          "height": 323
        }
      },
      "source": [
        "print('nClass: {}    classes: {}'.format(db.c, db.classes))\n",
        "db"
      ],
      "execution_count": 27,
      "outputs": [
        {
          "output_type": "stream",
          "text": [
            "nClass: 2    classes: [0, 1]\n"
          ],
          "name": "stdout"
        },
        {
          "output_type": "execute_result",
          "data": {
            "text/plain": [
              "ImageDataBunch;\n",
              "\n",
              "Train: LabelList (490 items)\n",
              "x: ImageList\n",
              "Image (3, 64, 64),Image (3, 64, 64),Image (3, 64, 64),Image (3, 64, 64),Image (3, 64, 64)\n",
              "y: CategoryList\n",
              "0,0,0,0,0\n",
              "Path: images;\n",
              "\n",
              "Valid: LabelList (122 items)\n",
              "x: ImageList\n",
              "Image (3, 64, 64),Image (3, 64, 64),Image (3, 64, 64),Image (3, 64, 64),Image (3, 64, 64)\n",
              "y: CategoryList\n",
              "1,1,0,1,0\n",
              "Path: images;\n",
              "\n",
              "Test: None"
            ]
          },
          "metadata": {
            "tags": []
          },
          "execution_count": 27
        }
      ]
    },
    {
      "cell_type": "code",
      "metadata": {
        "id": "0AgeX_E6AbfP",
        "colab_type": "code",
        "outputId": "03599554-a74c-463c-9ff8-298b534906b9",
        "colab": {
          "base_uri": "https://localhost:8080/",
          "height": 232
        }
      },
      "source": [
        "im = lls.train.get(-1)\n",
        "print(len(lls.train), im.size)\n",
        "im.show()"
      ],
      "execution_count": 30,
      "outputs": [
        {
          "output_type": "stream",
          "text": [
            "490 torch.Size([599, 599])\n"
          ],
          "name": "stdout"
        },
        {
          "output_type": "display_data",
          "data": {
            "image/png": "[encoded data removed]",
            "text/plain": [
              "<Figure size 216x216 with 1 Axes>"
            ]
          },
          "metadata": {
            "tags": []
          }
        }
      ]
    },
    {
      "cell_type": "markdown",
      "metadata": {
        "id": "Vg5CLziZHC1J",
        "colab_type": "text"
      },
      "source": [
        "## Model"
      ]
    },
    {
      "cell_type": "code",
      "metadata": {
        "id": "KdG9Pe1wIXLw",
        "colab_type": "code",
        "colab": {}
      },
      "source": [
        "trial_model = nn.Sequential(\n",
        "    nn.Sequential(\n",
        "          nn.Conv2d(3,8,5),     # 60 × 60 × 8\n",
        "          nn.ReLU(),\n",
        "          nn.AvgPool2d(3, stride=2),    # 29 × 29 × 8\n",
        "        \n",
        "          #nn.Dropout(p=0.25),\n",
        "          nn.Conv2d(8,8,5),         # 25 × 25 × 8\n",
        "          nn.ReLU(),\n",
        "          nn.AvgPool2d(3, stride=2),    # 12 × 12 × 8\n",
        "        \n",
        "          Flatten()         # 1152\n",
        "    ),\n",
        "    # removed model head to compute flatten size\n",
        ")"
      ],
      "execution_count": 0,
      "outputs": []
    },
    {
      "cell_type": "code",
      "metadata": {
        "id": "hKLvyhRrIXQ8",
        "colab_type": "code",
        "outputId": "9d3115f0-3f63-4c71-cdb4-2e2f76e855fc",
        "colab": {
          "base_uri": "https://localhost:8080/",
          "height": 374
        }
      },
      "source": [
        "trial_learn = Learner(db, trial_model, loss_func = nn.CrossEntropyLoss(), metrics=accuracy)\n",
        "trial_learn.summary()"
      ],
      "execution_count": 32,
      "outputs": [
        {
          "output_type": "execute_result",
          "data": {
            "text/plain": [
              "======================================================================\n",
              "Layer (type)         Output Shape         Param #    Trainable \n",
              "======================================================================\n",
              "Conv2d               [8, 60, 60]          608        True      \n",
              "______________________________________________________________________\n",
              "ReLU                 [8, 60, 60]          0          False     \n",
              "______________________________________________________________________\n",
              "AvgPool2d            [8, 29, 29]          0          False     \n",
              "______________________________________________________________________\n",
              "Conv2d               [8, 25, 25]          1,608      True      \n",
              "______________________________________________________________________\n",
              "ReLU                 [8, 25, 25]          0          False     \n",
              "______________________________________________________________________\n",
              "AvgPool2d            [8, 12, 12]          0          False     \n",
              "______________________________________________________________________\n",
              "Flatten              [1152]               0          False     \n",
              "______________________________________________________________________\n",
              "\n",
              "Total params: 2,216\n",
              "Total trainable params: 2,216\n",
              "Total non-trainable params: 0"
            ]
          },
          "metadata": {
            "tags": []
          },
          "execution_count": 32
        }
      ]
    },
    {
      "cell_type": "code",
      "metadata": {
        "id": "U36mS4qBIXZ_",
        "colab_type": "code",
        "colab": {}
      },
      "source": [
        "mymodel = nn.Sequential(\n",
        "    nn.Sequential(\n",
        "          nn.Conv2d(3,8,5),     # 60 × 60 × 8\n",
        "          nn.ReLU(),\n",
        "          nn.AvgPool2d(3, stride=2),    # 29 × 29 × 8\n",
        "        \n",
        "          #nn.Dropout(p=0.25),\n",
        "          nn.Conv2d(8,8,5),         # 25 × 25 × 8\n",
        "          nn.ReLU(),\n",
        "          nn.AvgPool2d(3, stride=2),    # 12 × 12 × 8\n",
        "        \n",
        "          Flatten()         # 1152\n",
        "    ),\n",
        "    nn.Sequential(\n",
        "#           nn.Dropout(p=0.25),\n",
        "          nn.Linear(1152, 144),\n",
        "          nn.ReLU(),\n",
        "          nn.Dropout(p=0.8),\n",
        "          nn.Linear(144, db.c) \n",
        "    )\n",
        ")"
      ],
      "execution_count": 0,
      "outputs": []
    },
    {
      "cell_type": "code",
      "metadata": {
        "id": "7Z5EyEC2JDkv",
        "colab_type": "code",
        "colab": {}
      },
      "source": [
        "learn = Learner(db, mymodel, loss_func = nn.CrossEntropyLoss(), metrics=accuracy)\n",
        "learn.summary()\n",
        "learn.save('initial')"
      ],
      "execution_count": 0,
      "outputs": []
    },
    {
      "cell_type": "markdown",
      "metadata": {
        "id": "0t4sSMWIKgk2",
        "colab_type": "text"
      },
      "source": [
        "# Train Model"
      ]
    },
    {
      "cell_type": "code",
      "metadata": {
        "id": "FteSA2jlJDxH",
        "colab_type": "code",
        "outputId": "c28d3329-243e-4be6-d732-db2cc5f4ad24",
        "colab": {
          "base_uri": "https://localhost:8080/",
          "height": 80
        }
      },
      "source": [
        "# learn.fit_one_cycle(1, 1e-7)  # learn.fit_one_cycle(1, 0.01)\n",
        "\n",
        "# learn.save('save-1')"
      ],
      "execution_count": 35,
      "outputs": [
        {
          "output_type": "display_data",
          "data": {
            "text/html": [
              "<table border=\"1\" class=\"dataframe\">\n",
              "  <thead>\n",
              "    <tr style=\"text-align: left;\">\n",
              "      <th>epoch</th>\n",
              "      <th>train_loss</th>\n",
              "      <th>valid_loss</th>\n",
              "      <th>accuracy</th>\n",
              "      <th>time</th>\n",
              "    </tr>\n",
              "  </thead>\n",
              "  <tbody>\n",
              "    <tr>\n",
              "      <td>0</td>\n",
              "      <td>0.692729</td>\n",
              "      <td>0.693551</td>\n",
              "      <td>0.483607</td>\n",
              "      <td>00:04</td>\n",
              "    </tr>\n",
              "  </tbody>\n",
              "</table>"
            ],
            "text/plain": [
              "<IPython.core.display.HTML object>"
            ]
          },
          "metadata": {
            "tags": []
          }
        }
      ]
    },
    {
      "cell_type": "code",
      "metadata": {
        "id": "UNY7L1jFK3jS",
        "colab_type": "code",
        "outputId": "58eccb2f-1e54-4b86-836c-bb32f86d7082",
        "colab": {
          "base_uri": "https://localhost:8080/",
          "height": 300
        }
      },
      "source": [
        "learn.lr_find(start_lr=1e-8, end_lr=1)\n",
        "learn.recorder.plot()"
      ],
      "execution_count": 39,
      "outputs": [
        {
          "output_type": "display_data",
          "data": {
            "text/html": [
              ""
            ],
            "text/plain": [
              "<IPython.core.display.HTML object>"
            ]
          },
          "metadata": {
            "tags": []
          }
        },
        {
          "output_type": "stream",
          "text": [
            "LR Finder is complete, type {learner_name}.recorder.plot() to see the graph.\n"
          ],
          "name": "stdout"
        },
        {
          "output_type": "display_data",
          "data": {
            "image/png": "[encoded data removed]",
            "text/plain": [
              "<Figure size 432x288 with 1 Axes>"
            ]
          },
          "metadata": {
            "tags": []
          }
        }
      ]
    },
    {
      "cell_type": "code",
      "metadata": {
        "id": "7Pkb1Vo3NYz9",
        "colab_type": "code",
        "outputId": "b7e008dd-b6e5-4760-fe35-fbf417c00586",
        "colab": {
          "base_uri": "https://localhost:8080/",
          "height": 3149
        }
      },
      "source": [
        "learn.load('initial')\n",
        "learn.fit_one_cycle(100, 3e-3)  # learn.fit_one_cycle(1, 0.01)"
      ],
      "execution_count": 41,
      "outputs": [
        {
          "output_type": "display_data",
          "data": {
            "text/html": [
              "<table border=\"1\" class=\"dataframe\">\n",
              "  <thead>\n",
              "    <tr style=\"text-align: left;\">\n",
              "      <th>epoch</th>\n",
              "      <th>train_loss</th>\n",
              "      <th>valid_loss</th>\n",
              "      <th>accuracy</th>\n",
              "      <th>time</th>\n",
              "    </tr>\n",
              "  </thead>\n",
              "  <tbody>\n",
              "    <tr>\n",
              "      <td>0</td>\n",
              "      <td>0.648894</td>\n",
              "      <td>0.651624</td>\n",
              "      <td>0.614754</td>\n",
              "      <td>00:04</td>\n",
              "    </tr>\n",
              "    <tr>\n",
              "      <td>1</td>\n",
              "      <td>0.644276</td>\n",
              "      <td>0.651220</td>\n",
              "      <td>0.606557</td>\n",
              "      <td>00:03</td>\n",
              "    </tr>\n",
              "    <tr>\n",
              "      <td>2</td>\n",
              "      <td>0.640934</td>\n",
              "      <td>0.650894</td>\n",
              "      <td>0.590164</td>\n",
              "      <td>00:04</td>\n",
              "    </tr>\n",
              "    <tr>\n",
              "      <td>3</td>\n",
              "      <td>0.639508</td>\n",
              "      <td>0.650522</td>\n",
              "      <td>0.590164</td>\n",
              "      <td>00:04</td>\n",
              "    </tr>\n",
              "    <tr>\n",
              "      <td>4</td>\n",
              "      <td>0.637933</td>\n",
              "      <td>0.649971</td>\n",
              "      <td>0.590164</td>\n",
              "      <td>00:04</td>\n",
              "    </tr>\n",
              "    <tr>\n",
              "      <td>5</td>\n",
              "      <td>0.636132</td>\n",
              "      <td>0.648370</td>\n",
              "      <td>0.581967</td>\n",
              "      <td>00:03</td>\n",
              "    </tr>\n",
              "    <tr>\n",
              "      <td>6</td>\n",
              "      <td>0.634619</td>\n",
              "      <td>0.646566</td>\n",
              "      <td>0.581967</td>\n",
              "      <td>00:04</td>\n",
              "    </tr>\n",
              "    <tr>\n",
              "      <td>7</td>\n",
              "      <td>0.635631</td>\n",
              "      <td>0.645335</td>\n",
              "      <td>0.590164</td>\n",
              "      <td>00:03</td>\n",
              "    </tr>\n",
              "    <tr>\n",
              "      <td>8</td>\n",
              "      <td>0.631769</td>\n",
              "      <td>0.642472</td>\n",
              "      <td>0.631148</td>\n",
              "      <td>00:03</td>\n",
              "    </tr>\n",
              "    <tr>\n",
              "      <td>9</td>\n",
              "      <td>0.629442</td>\n",
              "      <td>0.639290</td>\n",
              "      <td>0.614754</td>\n",
              "      <td>00:04</td>\n",
              "    </tr>\n",
              "    <tr>\n",
              "      <td>10</td>\n",
              "      <td>0.626003</td>\n",
              "      <td>0.636262</td>\n",
              "      <td>0.590164</td>\n",
              "      <td>00:04</td>\n",
              "    </tr>\n",
              "    <tr>\n",
              "      <td>11</td>\n",
              "      <td>0.621590</td>\n",
              "      <td>0.633308</td>\n",
              "      <td>0.622951</td>\n",
              "      <td>00:04</td>\n",
              "    </tr>\n",
              "    <tr>\n",
              "      <td>12</td>\n",
              "      <td>0.619230</td>\n",
              "      <td>0.632618</td>\n",
              "      <td>0.614754</td>\n",
              "      <td>00:04</td>\n",
              "    </tr>\n",
              "    <tr>\n",
              "      <td>13</td>\n",
              "      <td>0.615597</td>\n",
              "      <td>0.625360</td>\n",
              "      <td>0.622951</td>\n",
              "      <td>00:04</td>\n",
              "    </tr>\n",
              "    <tr>\n",
              "      <td>14</td>\n",
              "      <td>0.608792</td>\n",
              "      <td>0.626437</td>\n",
              "      <td>0.631148</td>\n",
              "      <td>00:04</td>\n",
              "    </tr>\n",
              "    <tr>\n",
              "      <td>15</td>\n",
              "      <td>0.602904</td>\n",
              "      <td>0.622880</td>\n",
              "      <td>0.631148</td>\n",
              "      <td>00:04</td>\n",
              "    </tr>\n",
              "    <tr>\n",
              "      <td>16</td>\n",
              "      <td>0.594645</td>\n",
              "      <td>0.615008</td>\n",
              "      <td>0.647541</td>\n",
              "      <td>00:04</td>\n",
              "    </tr>\n",
              "    <tr>\n",
              "      <td>17</td>\n",
              "      <td>0.587859</td>\n",
              "      <td>0.606070</td>\n",
              "      <td>0.655738</td>\n",
              "      <td>00:04</td>\n",
              "    </tr>\n",
              "    <tr>\n",
              "      <td>18</td>\n",
              "      <td>0.581338</td>\n",
              "      <td>0.619014</td>\n",
              "      <td>0.655738</td>\n",
              "      <td>00:04</td>\n",
              "    </tr>\n",
              "    <tr>\n",
              "      <td>19</td>\n",
              "      <td>0.569756</td>\n",
              "      <td>0.605509</td>\n",
              "      <td>0.696721</td>\n",
              "      <td>00:03</td>\n",
              "    </tr>\n",
              "    <tr>\n",
              "      <td>20</td>\n",
              "      <td>0.559951</td>\n",
              "      <td>0.582471</td>\n",
              "      <td>0.713115</td>\n",
              "      <td>00:04</td>\n",
              "    </tr>\n",
              "    <tr>\n",
              "      <td>21</td>\n",
              "      <td>0.553828</td>\n",
              "      <td>0.590561</td>\n",
              "      <td>0.663934</td>\n",
              "      <td>00:03</td>\n",
              "    </tr>\n",
              "    <tr>\n",
              "      <td>22</td>\n",
              "      <td>0.542159</td>\n",
              "      <td>0.580680</td>\n",
              "      <td>0.721311</td>\n",
              "      <td>00:03</td>\n",
              "    </tr>\n",
              "    <tr>\n",
              "      <td>23</td>\n",
              "      <td>0.532252</td>\n",
              "      <td>0.564045</td>\n",
              "      <td>0.721311</td>\n",
              "      <td>00:03</td>\n",
              "    </tr>\n",
              "    <tr>\n",
              "      <td>24</td>\n",
              "      <td>0.518927</td>\n",
              "      <td>0.562322</td>\n",
              "      <td>0.696721</td>\n",
              "      <td>00:03</td>\n",
              "    </tr>\n",
              "    <tr>\n",
              "      <td>25</td>\n",
              "      <td>0.504727</td>\n",
              "      <td>0.551546</td>\n",
              "      <td>0.721311</td>\n",
              "      <td>00:04</td>\n",
              "    </tr>\n",
              "    <tr>\n",
              "      <td>26</td>\n",
              "      <td>0.494218</td>\n",
              "      <td>0.534046</td>\n",
              "      <td>0.737705</td>\n",
              "      <td>00:04</td>\n",
              "    </tr>\n",
              "    <tr>\n",
              "      <td>27</td>\n",
              "      <td>0.489145</td>\n",
              "      <td>0.527583</td>\n",
              "      <td>0.745902</td>\n",
              "      <td>00:04</td>\n",
              "    </tr>\n",
              "    <tr>\n",
              "      <td>28</td>\n",
              "      <td>0.479415</td>\n",
              "      <td>0.529624</td>\n",
              "      <td>0.786885</td>\n",
              "      <td>00:04</td>\n",
              "    </tr>\n",
              "    <tr>\n",
              "      <td>29</td>\n",
              "      <td>0.463766</td>\n",
              "      <td>0.494061</td>\n",
              "      <td>0.762295</td>\n",
              "      <td>00:04</td>\n",
              "    </tr>\n",
              "    <tr>\n",
              "      <td>30</td>\n",
              "      <td>0.448363</td>\n",
              "      <td>0.476557</td>\n",
              "      <td>0.811475</td>\n",
              "      <td>00:04</td>\n",
              "    </tr>\n",
              "    <tr>\n",
              "      <td>31</td>\n",
              "      <td>0.434197</td>\n",
              "      <td>0.476013</td>\n",
              "      <td>0.786885</td>\n",
              "      <td>00:04</td>\n",
              "    </tr>\n",
              "    <tr>\n",
              "      <td>32</td>\n",
              "      <td>0.419735</td>\n",
              "      <td>0.471924</td>\n",
              "      <td>0.803279</td>\n",
              "      <td>00:04</td>\n",
              "    </tr>\n",
              "    <tr>\n",
              "      <td>33</td>\n",
              "      <td>0.408871</td>\n",
              "      <td>0.425176</td>\n",
              "      <td>0.844262</td>\n",
              "      <td>00:04</td>\n",
              "    </tr>\n",
              "    <tr>\n",
              "      <td>34</td>\n",
              "      <td>0.398816</td>\n",
              "      <td>0.438325</td>\n",
              "      <td>0.844262</td>\n",
              "      <td>00:03</td>\n",
              "    </tr>\n",
              "    <tr>\n",
              "      <td>35</td>\n",
              "      <td>0.379778</td>\n",
              "      <td>0.425301</td>\n",
              "      <td>0.844262</td>\n",
              "      <td>00:03</td>\n",
              "    </tr>\n",
              "    <tr>\n",
              "      <td>36</td>\n",
              "      <td>0.366762</td>\n",
              "      <td>0.405071</td>\n",
              "      <td>0.852459</td>\n",
              "      <td>00:03</td>\n",
              "    </tr>\n",
              "    <tr>\n",
              "      <td>37</td>\n",
              "      <td>0.353130</td>\n",
              "      <td>0.351602</td>\n",
              "      <td>0.885246</td>\n",
              "      <td>00:03</td>\n",
              "    </tr>\n",
              "    <tr>\n",
              "      <td>38</td>\n",
              "      <td>0.337872</td>\n",
              "      <td>0.337619</td>\n",
              "      <td>0.877049</td>\n",
              "      <td>00:03</td>\n",
              "    </tr>\n",
              "    <tr>\n",
              "      <td>39</td>\n",
              "      <td>0.324607</td>\n",
              "      <td>0.365408</td>\n",
              "      <td>0.860656</td>\n",
              "      <td>00:03</td>\n",
              "    </tr>\n",
              "    <tr>\n",
              "      <td>40</td>\n",
              "      <td>0.316853</td>\n",
              "      <td>0.340755</td>\n",
              "      <td>0.852459</td>\n",
              "      <td>00:03</td>\n",
              "    </tr>\n",
              "    <tr>\n",
              "      <td>41</td>\n",
              "      <td>0.308178</td>\n",
              "      <td>0.326822</td>\n",
              "      <td>0.893443</td>\n",
              "      <td>00:04</td>\n",
              "    </tr>\n",
              "    <tr>\n",
              "      <td>42</td>\n",
              "      <td>0.296437</td>\n",
              "      <td>0.298943</td>\n",
              "      <td>0.893443</td>\n",
              "      <td>00:04</td>\n",
              "    </tr>\n",
              "    <tr>\n",
              "      <td>43</td>\n",
              "      <td>0.287780</td>\n",
              "      <td>0.313368</td>\n",
              "      <td>0.868852</td>\n",
              "      <td>00:04</td>\n",
              "    </tr>\n",
              "    <tr>\n",
              "      <td>44</td>\n",
              "      <td>0.280382</td>\n",
              "      <td>0.252569</td>\n",
              "      <td>0.893443</td>\n",
              "      <td>00:03</td>\n",
              "    </tr>\n",
              "    <tr>\n",
              "      <td>45</td>\n",
              "      <td>0.272975</td>\n",
              "      <td>0.277315</td>\n",
              "      <td>0.885246</td>\n",
              "      <td>00:04</td>\n",
              "    </tr>\n",
              "    <tr>\n",
              "      <td>46</td>\n",
              "      <td>0.260587</td>\n",
              "      <td>0.258141</td>\n",
              "      <td>0.885246</td>\n",
              "      <td>00:03</td>\n",
              "    </tr>\n",
              "    <tr>\n",
              "      <td>47</td>\n",
              "      <td>0.251328</td>\n",
              "      <td>0.237221</td>\n",
              "      <td>0.918033</td>\n",
              "      <td>00:04</td>\n",
              "    </tr>\n",
              "    <tr>\n",
              "      <td>48</td>\n",
              "      <td>0.239126</td>\n",
              "      <td>0.233650</td>\n",
              "      <td>0.918033</td>\n",
              "      <td>00:03</td>\n",
              "    </tr>\n",
              "    <tr>\n",
              "      <td>49</td>\n",
              "      <td>0.226146</td>\n",
              "      <td>0.220525</td>\n",
              "      <td>0.909836</td>\n",
              "      <td>00:03</td>\n",
              "    </tr>\n",
              "    <tr>\n",
              "      <td>50</td>\n",
              "      <td>0.213837</td>\n",
              "      <td>0.224978</td>\n",
              "      <td>0.909836</td>\n",
              "      <td>00:04</td>\n",
              "    </tr>\n",
              "    <tr>\n",
              "      <td>51</td>\n",
              "      <td>0.209635</td>\n",
              "      <td>0.254062</td>\n",
              "      <td>0.885246</td>\n",
              "      <td>00:04</td>\n",
              "    </tr>\n",
              "    <tr>\n",
              "      <td>52</td>\n",
              "      <td>0.200311</td>\n",
              "      <td>0.240025</td>\n",
              "      <td>0.909836</td>\n",
              "      <td>00:04</td>\n",
              "    </tr>\n",
              "    <tr>\n",
              "      <td>53</td>\n",
              "      <td>0.198291</td>\n",
              "      <td>0.224154</td>\n",
              "      <td>0.901639</td>\n",
              "      <td>00:04</td>\n",
              "    </tr>\n",
              "    <tr>\n",
              "      <td>54</td>\n",
              "      <td>0.190867</td>\n",
              "      <td>0.196733</td>\n",
              "      <td>0.909836</td>\n",
              "      <td>00:04</td>\n",
              "    </tr>\n",
              "    <tr>\n",
              "      <td>55</td>\n",
              "      <td>0.181850</td>\n",
              "      <td>0.187766</td>\n",
              "      <td>0.901639</td>\n",
              "      <td>00:04</td>\n",
              "    </tr>\n",
              "    <tr>\n",
              "      <td>56</td>\n",
              "      <td>0.182345</td>\n",
              "      <td>0.189551</td>\n",
              "      <td>0.926230</td>\n",
              "      <td>00:04</td>\n",
              "    </tr>\n",
              "    <tr>\n",
              "      <td>57</td>\n",
              "      <td>0.176328</td>\n",
              "      <td>0.208887</td>\n",
              "      <td>0.901639</td>\n",
              "      <td>00:04</td>\n",
              "    </tr>\n",
              "    <tr>\n",
              "      <td>58</td>\n",
              "      <td>0.166492</td>\n",
              "      <td>0.228607</td>\n",
              "      <td>0.901639</td>\n",
              "      <td>00:04</td>\n",
              "    </tr>\n",
              "    <tr>\n",
              "      <td>59</td>\n",
              "      <td>0.160423</td>\n",
              "      <td>0.241997</td>\n",
              "      <td>0.909836</td>\n",
              "      <td>00:04</td>\n",
              "    </tr>\n",
              "    <tr>\n",
              "      <td>60</td>\n",
              "      <td>0.157104</td>\n",
              "      <td>0.209903</td>\n",
              "      <td>0.918033</td>\n",
              "      <td>00:04</td>\n",
              "    </tr>\n",
              "    <tr>\n",
              "      <td>61</td>\n",
              "      <td>0.149103</td>\n",
              "      <td>0.208120</td>\n",
              "      <td>0.918033</td>\n",
              "      <td>00:03</td>\n",
              "    </tr>\n",
              "    <tr>\n",
              "      <td>62</td>\n",
              "      <td>0.141792</td>\n",
              "      <td>0.205332</td>\n",
              "      <td>0.926230</td>\n",
              "      <td>00:03</td>\n",
              "    </tr>\n",
              "    <tr>\n",
              "      <td>63</td>\n",
              "      <td>0.132392</td>\n",
              "      <td>0.205184</td>\n",
              "      <td>0.918033</td>\n",
              "      <td>00:03</td>\n",
              "    </tr>\n",
              "    <tr>\n",
              "      <td>64</td>\n",
              "      <td>0.127373</td>\n",
              "      <td>0.197631</td>\n",
              "      <td>0.909836</td>\n",
              "      <td>00:03</td>\n",
              "    </tr>\n",
              "    <tr>\n",
              "      <td>65</td>\n",
              "      <td>0.120736</td>\n",
              "      <td>0.177401</td>\n",
              "      <td>0.909836</td>\n",
              "      <td>00:04</td>\n",
              "    </tr>\n",
              "    <tr>\n",
              "      <td>66</td>\n",
              "      <td>0.122104</td>\n",
              "      <td>0.164952</td>\n",
              "      <td>0.909836</td>\n",
              "      <td>00:04</td>\n",
              "    </tr>\n",
              "    <tr>\n",
              "      <td>67</td>\n",
              "      <td>0.116166</td>\n",
              "      <td>0.184596</td>\n",
              "      <td>0.909836</td>\n",
              "      <td>00:04</td>\n",
              "    </tr>\n",
              "    <tr>\n",
              "      <td>68</td>\n",
              "      <td>0.110064</td>\n",
              "      <td>0.190628</td>\n",
              "      <td>0.926230</td>\n",
              "      <td>00:04</td>\n",
              "    </tr>\n",
              "    <tr>\n",
              "      <td>69</td>\n",
              "      <td>0.107696</td>\n",
              "      <td>0.190901</td>\n",
              "      <td>0.918033</td>\n",
              "      <td>00:04</td>\n",
              "    </tr>\n",
              "    <tr>\n",
              "      <td>70</td>\n",
              "      <td>0.103236</td>\n",
              "      <td>0.189670</td>\n",
              "      <td>0.909836</td>\n",
              "      <td>00:04</td>\n",
              "    </tr>\n",
              "    <tr>\n",
              "      <td>71</td>\n",
              "      <td>0.098546</td>\n",
              "      <td>0.175926</td>\n",
              "      <td>0.934426</td>\n",
              "      <td>00:04</td>\n",
              "    </tr>\n",
              "    <tr>\n",
              "      <td>72</td>\n",
              "      <td>0.094975</td>\n",
              "      <td>0.163642</td>\n",
              "      <td>0.926230</td>\n",
              "      <td>00:04</td>\n",
              "    </tr>\n",
              "    <tr>\n",
              "      <td>73</td>\n",
              "      <td>0.092470</td>\n",
              "      <td>0.165068</td>\n",
              "      <td>0.909836</td>\n",
              "      <td>00:04</td>\n",
              "    </tr>\n",
              "    <tr>\n",
              "      <td>74</td>\n",
              "      <td>0.091579</td>\n",
              "      <td>0.174431</td>\n",
              "      <td>0.918033</td>\n",
              "      <td>00:04</td>\n",
              "    </tr>\n",
              "    <tr>\n",
              "      <td>75</td>\n",
              "      <td>0.090740</td>\n",
              "      <td>0.187682</td>\n",
              "      <td>0.901639</td>\n",
              "      <td>00:04</td>\n",
              "    </tr>\n",
              "    <tr>\n",
              "      <td>76</td>\n",
              "      <td>0.091151</td>\n",
              "      <td>0.176850</td>\n",
              "      <td>0.918033</td>\n",
              "      <td>00:04</td>\n",
              "    </tr>\n",
              "    <tr>\n",
              "      <td>77</td>\n",
              "      <td>0.092579</td>\n",
              "      <td>0.164636</td>\n",
              "      <td>0.918033</td>\n",
              "      <td>00:04</td>\n",
              "    </tr>\n",
              "    <tr>\n",
              "      <td>78</td>\n",
              "      <td>0.089677</td>\n",
              "      <td>0.165374</td>\n",
              "      <td>0.926230</td>\n",
              "      <td>00:04</td>\n",
              "    </tr>\n",
              "    <tr>\n",
              "      <td>79</td>\n",
              "      <td>0.086320</td>\n",
              "      <td>0.166337</td>\n",
              "      <td>0.926230</td>\n",
              "      <td>00:03</td>\n",
              "    </tr>\n",
              "    <tr>\n",
              "      <td>80</td>\n",
              "      <td>0.081969</td>\n",
              "      <td>0.170842</td>\n",
              "      <td>0.926230</td>\n",
              "      <td>00:04</td>\n",
              "    </tr>\n",
              "    <tr>\n",
              "      <td>81</td>\n",
              "      <td>0.078067</td>\n",
              "      <td>0.169254</td>\n",
              "      <td>0.934426</td>\n",
              "      <td>00:03</td>\n",
              "    </tr>\n",
              "    <tr>\n",
              "      <td>82</td>\n",
              "      <td>0.074626</td>\n",
              "      <td>0.167983</td>\n",
              "      <td>0.934426</td>\n",
              "      <td>00:04</td>\n",
              "    </tr>\n",
              "    <tr>\n",
              "      <td>83</td>\n",
              "      <td>0.076957</td>\n",
              "      <td>0.169213</td>\n",
              "      <td>0.934426</td>\n",
              "      <td>00:04</td>\n",
              "    </tr>\n",
              "    <tr>\n",
              "      <td>84</td>\n",
              "      <td>0.073077</td>\n",
              "      <td>0.170916</td>\n",
              "      <td>0.934426</td>\n",
              "      <td>00:04</td>\n",
              "    </tr>\n",
              "    <tr>\n",
              "      <td>85</td>\n",
              "      <td>0.070979</td>\n",
              "      <td>0.170906</td>\n",
              "      <td>0.934426</td>\n",
              "      <td>00:03</td>\n",
              "    </tr>\n",
              "    <tr>\n",
              "      <td>86</td>\n",
              "      <td>0.068779</td>\n",
              "      <td>0.170776</td>\n",
              "      <td>0.934426</td>\n",
              "      <td>00:04</td>\n",
              "    </tr>\n",
              "    <tr>\n",
              "      <td>87</td>\n",
              "      <td>0.065747</td>\n",
              "      <td>0.169352</td>\n",
              "      <td>0.934426</td>\n",
              "      <td>00:04</td>\n",
              "    </tr>\n",
              "    <tr>\n",
              "      <td>88</td>\n",
              "      <td>0.064714</td>\n",
              "      <td>0.168362</td>\n",
              "      <td>0.934426</td>\n",
              "      <td>00:04</td>\n",
              "    </tr>\n",
              "    <tr>\n",
              "      <td>89</td>\n",
              "      <td>0.063936</td>\n",
              "      <td>0.168011</td>\n",
              "      <td>0.934426</td>\n",
              "      <td>00:04</td>\n",
              "    </tr>\n",
              "    <tr>\n",
              "      <td>90</td>\n",
              "      <td>0.062993</td>\n",
              "      <td>0.166097</td>\n",
              "      <td>0.934426</td>\n",
              "      <td>00:04</td>\n",
              "    </tr>\n",
              "    <tr>\n",
              "      <td>91</td>\n",
              "      <td>0.063688</td>\n",
              "      <td>0.165114</td>\n",
              "      <td>0.934426</td>\n",
              "      <td>00:04</td>\n",
              "    </tr>\n",
              "    <tr>\n",
              "      <td>92</td>\n",
              "      <td>0.062039</td>\n",
              "      <td>0.164324</td>\n",
              "      <td>0.934426</td>\n",
              "      <td>00:04</td>\n",
              "    </tr>\n",
              "    <tr>\n",
              "      <td>93</td>\n",
              "      <td>0.060353</td>\n",
              "      <td>0.163616</td>\n",
              "      <td>0.934426</td>\n",
              "      <td>00:04</td>\n",
              "    </tr>\n",
              "    <tr>\n",
              "      <td>94</td>\n",
              "      <td>0.058670</td>\n",
              "      <td>0.163590</td>\n",
              "      <td>0.934426</td>\n",
              "      <td>00:04</td>\n",
              "    </tr>\n",
              "    <tr>\n",
              "      <td>95</td>\n",
              "      <td>0.057774</td>\n",
              "      <td>0.164614</td>\n",
              "      <td>0.934426</td>\n",
              "      <td>00:04</td>\n",
              "    </tr>\n",
              "    <tr>\n",
              "      <td>96</td>\n",
              "      <td>0.055935</td>\n",
              "      <td>0.165295</td>\n",
              "      <td>0.934426</td>\n",
              "      <td>00:04</td>\n",
              "    </tr>\n",
              "    <tr>\n",
              "      <td>97</td>\n",
              "      <td>0.057764</td>\n",
              "      <td>0.165527</td>\n",
              "      <td>0.934426</td>\n",
              "      <td>00:03</td>\n",
              "    </tr>\n",
              "    <tr>\n",
              "      <td>98</td>\n",
              "      <td>0.056228</td>\n",
              "      <td>0.165593</td>\n",
              "      <td>0.934426</td>\n",
              "      <td>00:03</td>\n",
              "    </tr>\n",
              "    <tr>\n",
              "      <td>99</td>\n",
              "      <td>0.056735</td>\n",
              "      <td>0.165604</td>\n",
              "      <td>0.934426</td>\n",
              "      <td>00:04</td>\n",
              "    </tr>\n",
              "  </tbody>\n",
              "</table>"
            ],
            "text/plain": [
              "<IPython.core.display.HTML object>"
            ]
          },
          "metadata": {
            "tags": []
          }
        }
      ]
    }
  ]
}