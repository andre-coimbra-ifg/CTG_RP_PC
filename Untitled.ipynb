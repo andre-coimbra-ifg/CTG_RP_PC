{
 "cells": [
  {
   "cell_type": "code",
   "execution_count": 1,
   "metadata": {},
   "outputs": [],
   "source": [
    "import config_laptop"
   ]
  },
  {
   "cell_type": "code",
   "execution_count": 2,
   "metadata": {},
   "outputs": [
    {
     "data": {
      "text/plain": [
       "'/Users/Test/Documents/GitHub/CTG_RP'"
      ]
     },
     "execution_count": 2,
     "metadata": {},
     "output_type": "execute_result"
    }
   ],
   "source": [
    "config_laptop.BASE_DIR"
   ]
  },
  {
   "cell_type": "code",
   "execution_count": 3,
   "metadata": {},
   "outputs": [
    {
     "data": {
      "text/plain": [
       "['/Users/Test/anaconda3/lib/python36.zip',\n",
       " '/Users/Test/anaconda3/lib/python3.6',\n",
       " '/Users/Test/anaconda3/lib/python3.6/lib-dynload',\n",
       " '',\n",
       " '/Users/Test/.local/lib/python3.6/site-packages',\n",
       " '/Users/Test/anaconda3/lib/python3.6/site-packages',\n",
       " '/Users/Test/anaconda3/lib/python3.6/site-packages/aeosa',\n",
       " '/Users/Test/anaconda3/lib/python3.6/site-packages/IPython/extensions',\n",
       " '/Users/Test/.ipython',\n",
       " '/Users/Test/Documents/GitHub/CTG_RP/src']"
      ]
     },
     "execution_count": 3,
     "metadata": {},
     "output_type": "execute_result"
    }
   ],
   "source": [
    "import sys\n",
    "sys.path"
   ]
  },
  {
   "cell_type": "code",
   "execution_count": 4,
   "metadata": {},
   "outputs": [],
   "source": [
    "import config_local"
   ]
  },
  {
   "cell_type": "code",
   "execution_count": null,
   "metadata": {},
   "outputs": [],
   "source": []
  }
 ],
 "metadata": {
  "kernelspec": {
   "display_name": "Python 3",
   "language": "python",
   "name": "python3"
  },
  "language_info": {
   "codemirror_mode": {
    "name": "ipython",
    "version": 3
   },
   "file_extension": ".py",
   "mimetype": "text/x-python",
   "name": "python",
   "nbconvert_exporter": "python",
   "pygments_lexer": "ipython3",
   "version": "3.6.8"
  }
 },
 "nbformat": 4,
 "nbformat_minor": 2
}
